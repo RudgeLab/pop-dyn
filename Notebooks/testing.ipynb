{
 "cells": [
  {
   "cell_type": "code",
   "execution_count": 1,
   "id": "806d9ab1-6f96-4af3-a499-b4246a0333c6",
   "metadata": {},
   "outputs": [],
   "source": [
    "import os\n",
    "import numpy as np\n",
    "import matplotlib.pyplot as plt\n",
    "\n",
    "from skimage.io import imread, imsave\n",
    "from skimage.measure import find_contours\n",
    "from skimage.filters import gaussian\n",
    "from skimage.segmentation import active_contour\n",
    "from skimage.morphology import binary_erosion\n",
    "from skimage.draw import polygon\n",
    "from skimage.transform import warp_polar\n",
    "from skimage.transform import warp, EuclideanTransform\n",
    "\n",
    "from scipy.ndimage import distance_transform_edt\n",
    "from scipy.optimize import fmin, least_squares\n",
    "from scipy.signal import savgol_filter\n",
    "from scipy.io import savemat"
   ]
  },
  {
   "cell_type": "code",
   "execution_count": 3,
   "id": "1ead8dc4-38cd-4368-a0d0-c0df16391b53",
   "metadata": {},
   "outputs": [],
   "source": [
    "folder = '/mnt/ff9e5a34-3696-46e4-8fa8-0171539135be/Tweez scope'\n",
    "exp_date = '2023_11_28'\n",
    "path = os.path.join(folder, exp_date)\n",
    "folder_masks = 'contour_masks'\n",
    "fname = '2023_11_28_10x_1.0x_pAAA_TiTweez_Pos1.ome.tif'\n",
    "fname_mask = 'mask_' + fname\n",
    "\n",
    "path_im = os.path.join(path, fname)\n",
    "path_masks = os.path.join(path, folder_masks, fname_mask)"
   ]
  },
  {
   "cell_type": "code",
   "execution_count": 5,
   "id": "7d035975-ef75-47b3-a88c-ed2e7ba37164",
   "metadata": {},
   "outputs": [],
   "source": [
    "im_all = imread(path_im)\n",
    "im_ph = im_all[:,:,:,3]\n",
    "im_ph = im_ph.astype(float)"
   ]
  },
  {
   "cell_type": "code",
   "execution_count": 6,
   "id": "5ddf0ce3-fbc8-4ef4-b730-365c85d106e9",
   "metadata": {},
   "outputs": [],
   "source": [
    "nt,nx,ny = im_ph.shape"
   ]
  },
  {
   "cell_type": "code",
   "execution_count": 7,
   "id": "1029eaa1-e2d4-4c5a-89d2-a13046a921cd",
   "metadata": {},
   "outputs": [
    {
     "data": {
      "text/plain": [
       "(216, 1024, 1024)"
      ]
     },
     "execution_count": 7,
     "metadata": {},
     "output_type": "execute_result"
    }
   ],
   "source": [
    "im_ph.shape"
   ]
  },
  {
   "cell_type": "code",
   "execution_count": 11,
   "id": "fcd0f491-9ee6-4a3c-b7d0-414f218eff1e",
   "metadata": {},
   "outputs": [
    {
     "data": {
      "text/plain": [
       "(216, 1024, 1024)"
      ]
     },
     "execution_count": 11,
     "metadata": {},
     "output_type": "execute_result"
    }
   ],
   "source": [
    "(nt,) + (nx,ny)"
   ]
  },
  {
   "cell_type": "code",
   "execution_count": null,
   "id": "0d56c52e-4b4c-42ac-acac-9832d1afd25b",
   "metadata": {},
   "outputs": [],
   "source": [
    "date = '2023_11_15'\n",
    "pos = [0,1,3]\n",
    "rads = 100\n",
    "524, 480\n",
    "505,520\n",
    "\n",
    "510, 510"
   ]
  },
  {
   "cell_type": "code",
   "execution_count": 16,
   "id": "d20ff212-c0e0-4932-8655-63f0882a0cba",
   "metadata": {},
   "outputs": [],
   "source": [
    "metadata = {\n",
    "    'Tweez scope': {\n",
    "        '2023_11_15': {\n",
    "            '0': {'cx': 524, 'cy': 480, 'radius': 100},\n",
    "            '1': {'cx': 505, 'cy': 520, 'radius': 100},\n",
    "            '3': {'cx': 510, 'cy': 510, 'radius': 100},\n",
    "            # More positions\n",
    "        },\n",
    "        # More dates\n",
    "    },\n",
    "    'Ti scope': {\n",
    "        '2023_11_15': {\n",
    "            '0': {'cx': 600, 'cy': 600, 'radius': 100},\n",
    "            '1': {'cx': 600, 'cy': 600, 'radius': 100},\n",
    "            '2': {'cx': 600, 'cy': 600, 'radius': 100},\n",
    "            '3': {'cx': 600, 'cy': 600, 'radius': 100},\n",
    "            '6': {'cx': 625, 'cy': 590, 'radius': 110},\n",
    "            '7': {'cx': 600, 'cy': 580, 'radius': 100},\n",
    "            '9': {'cx': 605, 'cy': 590, 'radius': 100},\n",
    "            '17': {'cx': 610, 'cy': 590, 'radius': 100},\n",
    "            '19': {'cx': 600, 'cy': 600, 'radius': 100},\n",
    "            # More positions\n",
    "        },\n",
    "        # More dates\n",
    "    }\n",
    "}"
   ]
  },
  {
   "cell_type": "code",
   "execution_count": 33,
   "id": "6df6f845-240a-4291-97ad-29df5ce5f300",
   "metadata": {},
   "outputs": [],
   "source": [
    "def get_params_for_date(microscope, date, metadata):\n",
    "    \"\"\"Retrieve all parameters for a given microscope and date.\"\"\"\n",
    "    try:\n",
    "        date_data = metadata[microscope][date]\n",
    "        for pos, data in date_data.items():\n",
    "            print(f\"{microscope} for {date}: Pos{pos}, {data}\")\n",
    "    except KeyError:\n",
    "        print(\"Data not found for the given microscope and date.\")"
   ]
  },
  {
   "cell_type": "code",
   "execution_count": 34,
   "id": "3a26536a-3d95-4b57-a6a7-df7a341895a8",
   "metadata": {},
   "outputs": [
    {
     "name": "stdout",
     "output_type": "stream",
     "text": [
      "Tweez scope for 2023_11_15: Pos0, {'cx': 524, 'cy': 480, 'radius': 100}\n",
      "Tweez scope for 2023_11_15: Pos1, {'cx': 505, 'cy': 520, 'radius': 100}\n",
      "Tweez scope for 2023_11_15: Pos3, {'cx': 510, 'cy': 510, 'radius': 100}\n"
     ]
    }
   ],
   "source": [
    "# Example usage\n",
    "get_params_for_date('Tweez scope', '2023_11_15', metadata)"
   ]
  },
  {
   "cell_type": "code",
   "execution_count": null,
   "id": "de9570da-a576-4290-8f43-c4ecb88853e1",
   "metadata": {},
   "outputs": [],
   "source": [
    "0\tVery good\t1\t600, 600\t100\n",
    "1\tVery good\t1\t600, 600\t100\n",
    "2\tVery good\t1\t600, 600\t100\n",
    "3\tVery good\t1\t600, 600\t100\n",
    "6\tVery good\t1\t625, 590\t110\n",
    "7\tVery good\t1\t600, 580\t100\n",
    "9\tVery good\t1\t605, 590\t100\n",
    "17\tVery good\t1\t610, 590\t100\n",
    "19\tVery good\t1\t600, 600\t100"
   ]
  }
 ],
 "metadata": {
  "kernelspec": {
   "display_name": "Python 3 (ipykernel)",
   "language": "python",
   "name": "python3"
  },
  "language_info": {
   "codemirror_mode": {
    "name": "ipython",
    "version": 3
   },
   "file_extension": ".py",
   "mimetype": "text/x-python",
   "name": "python",
   "nbconvert_exporter": "python",
   "pygments_lexer": "ipython3",
   "version": "3.12.2"
  }
 },
 "nbformat": 4,
 "nbformat_minor": 5
}
