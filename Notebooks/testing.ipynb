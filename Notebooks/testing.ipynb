{
 "cells": [
  {
   "cell_type": "code",
   "execution_count": 1,
   "id": "806d9ab1-6f96-4af3-a499-b4246a0333c6",
   "metadata": {},
   "outputs": [],
   "source": [
    "import os\n",
    "import numpy as np\n",
    "import matplotlib.pyplot as plt\n",
    "import cv2\n",
    "import json\n",
    "\n",
    "from skimage.io import imread, imsave\n",
    "from skimage.measure import find_contours\n",
    "from skimage.filters import gaussian\n",
    "from skimage.segmentation import active_contour\n",
    "from skimage.morphology import binary_erosion\n",
    "from skimage.draw import polygon\n",
    "from skimage.transform import warp_polar\n",
    "from skimage.transform import warp, EuclideanTransform\n",
    "\n",
    "from scipy.ndimage import distance_transform_edt\n",
    "from scipy.optimize import fmin, least_squares\n",
    "from scipy.signal import savgol_filter\n",
    "from scipy.io import savemat"
   ]
  },
  {
   "cell_type": "code",
   "execution_count": 2,
   "id": "cd41a3e8-0cd6-44e4-839a-2d0cb36f43bc",
   "metadata": {},
   "outputs": [],
   "source": [
    "def get_params_for_date(microscope, date, metadata):\n",
    "    \"\"\"Retrieve all parameters for a given microscope and date.\"\"\"\n",
    "    try:\n",
    "        return metadata[microscope][date]\n",
    "    except KeyError:\n",
    "        print(\"Data not found for the given microscope and date.\")"
   ]
  },
  {
   "cell_type": "code",
   "execution_count": 3,
   "id": "3ba4aac4-0ac7-431d-a9d1-93395ff1a9bc",
   "metadata": {},
   "outputs": [],
   "source": [
    "with open('../metadata.json') as f:\n",
    "    metadata = json.load(f)"
   ]
  },
  {
   "cell_type": "code",
   "execution_count": 5,
   "id": "1c5557c5-caf8-42f3-88c4-467589cac574",
   "metadata": {},
   "outputs": [
    {
     "data": {
      "text/plain": [
       "{'0': {'cx': 524, 'cy': 480, 'radius': 100, 'radj': 50},\n",
       " '1': {'cx': 505, 'cy': 520, 'radius': 100, 'radj': 50},\n",
       " '3': {'cx': 510, 'cy': 510, 'radius': 100, 'radj': 50}}"
      ]
     },
     "execution_count": 5,
     "metadata": {},
     "output_type": "execute_result"
    }
   ],
   "source": [
    "# Example usage\n",
    "scope_name = 'Tweez scope'\n",
    "exp_date = '2023_11_15'\n",
    "colonies = get_params_for_date(scope_name, exp_date, metadata)\n",
    "\n",
    "result = get_params_for_date('Tweez scope', '2023_11_15', metadata)\n",
    "result"
   ]
  },
  {
   "cell_type": "code",
   "execution_count": 11,
   "id": "9c1ed86c-a4ff-4f64-8851-bed62bf90ca1",
   "metadata": {},
   "outputs": [],
   "source": [
    "def make_video(images_folder,  video_name):\n",
    "    \"\"\"\n",
    "    Makes a video from a sequence of png images.\n",
    "    \n",
    "    Parameters:\n",
    "    - images_folder (string): Folder that contains the png files.\n",
    "    - word_cont (string): Word that the files contain.\n",
    "    - video_name (string): Name of the output file.\n",
    "\n",
    "    Returns:\n",
    "    - \n",
    "    \"\"\"\n",
    "    images = [img for img in os.listdir(images_folder) if img.endswith(\".png\")]\n",
    "    images.sort()\n",
    "    frame = cv2.imread(os.path.join(images_folder, images[0]))\n",
    "    height, width, layers = frame.shape\n",
    "    video = cv2.VideoWriter(video_name, 0, 7, (width,height))\n",
    "\n",
    "    for image in images:\n",
    "        video.write(cv2.imread(os.path.join(images_folder, image)))\n",
    "\n",
    "    video.release()"
   ]
  },
  {
   "cell_type": "code",
   "execution_count": null,
   "id": "2169baae-8c31-4365-90f0-44303bfefd8d",
   "metadata": {},
   "outputs": [],
   "source": []
  },
  {
   "cell_type": "code",
   "execution_count": 7,
   "id": "1ead8dc4-38cd-4368-a0d0-c0df16391b53",
   "metadata": {},
   "outputs": [],
   "source": [
    "##################\n",
    "# analysis params\n",
    "##################\n",
    "\n",
    "#folder = '/home/guillermo/Microscopy'\n",
    "folder = '/mnt/ff9e5a34-3696-46e4-8fa8-0171539135be'\n",
    "#scope_name = 'Ti scope'\n",
    "scope_name = 'Tweez scope'\n",
    "path_scope = os.path.join(folder, scope_name)\n",
    "exp_date = '2023_12_08'\n",
    "path = os.path.join(path_scope, exp_date)\n",
    "folder_masks = 'contour_masks'\n",
    "folder_results = 'results'\n",
    "folder_fluo = 'fluo'\n",
    "folder_graphs = 'graphs'\n",
    "pos = 0\n",
    "#fname = f'{exp_date}_10x_1.0x_pLPT20&41_single_TiTweez_Pos{pos}.ome.tif'\n",
    "#fname_mask = 'mask_' + fname\n",
    "\n",
    "### params for repressilator single reporter\n",
    "yfp_chn = 0\n",
    "cfp_chn = 1\n",
    "ph_chn = 2\n",
    "fluo_chns = 2"
   ]
  },
  {
   "cell_type": "code",
   "execution_count": 14,
   "id": "0e44aa3a-d43b-4fb2-85e5-e77da83169c1",
   "metadata": {},
   "outputs": [],
   "source": [
    "poss = [2,4,5,6,7,11,12,13,17,18,19,21,22,23,24,29,30,31,32,34,35]"
   ]
  },
  {
   "cell_type": "code",
   "execution_count": 15,
   "id": "4b9abed3-785d-4eda-bcbd-cbc21d409624",
   "metadata": {},
   "outputs": [],
   "source": [
    "for pos in poss:\n",
    "    fname = f'{exp_date}_10x_1.0x_MC4100_pLPT20&41_TiTweez_Pos{pos}.ome.tif'\n",
    "    fname_mask = 'mask_' + fname\n",
    "    path_mask = os.path.join(path, folder_masks, fname_mask)\n",
    "    #print(path_mask)\n",
    "    mask = imread(path_mask)\n",
    "    mask = mask[:216]\n",
    "    imsave(path_mask, mask)\n",
    "    make_video(os.path.join(path, folder_masks,f\"temp_pos{pos}\"), \n",
    "           os.path.join(path, folder_masks,f\"contour_pos{pos}.avi\"))"
   ]
  },
  {
   "cell_type": "code",
   "execution_count": null,
   "id": "97144b77-ec2f-433a-be4a-d756191f6553",
   "metadata": {},
   "outputs": [],
   "source": []
  }
 ],
 "metadata": {
  "kernelspec": {
   "display_name": "Python 3 (ipykernel)",
   "language": "python",
   "name": "python3"
  },
  "language_info": {
   "codemirror_mode": {
    "name": "ipython",
    "version": 3
   },
   "file_extension": ".py",
   "mimetype": "text/x-python",
   "name": "python",
   "nbconvert_exporter": "python",
   "pygments_lexer": "ipython3",
   "version": "3.11.8"
  }
 },
 "nbformat": 4,
 "nbformat_minor": 5
}
