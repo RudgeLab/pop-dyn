{
 "cells": [
  {
   "cell_type": "code",
   "execution_count": 5,
   "id": "806d9ab1-6f96-4af3-a499-b4246a0333c6",
   "metadata": {},
   "outputs": [],
   "source": [
    "import os\n",
    "import numpy as np\n",
    "import matplotlib.pyplot as plt\n",
    "import cv2\n",
    "import json\n",
    "\n",
    "from skimage.io import imread, imsave\n",
    "from skimage.measure import find_contours\n",
    "from skimage.filters import gaussian\n",
    "from skimage.segmentation import active_contour\n",
    "from skimage.morphology import binary_erosion\n",
    "from skimage.draw import polygon\n",
    "from skimage.transform import warp_polar\n",
    "from skimage.transform import warp, EuclideanTransform\n",
    "\n",
    "from scipy.ndimage import distance_transform_edt\n",
    "from scipy.optimize import fmin, least_squares\n",
    "from scipy.signal import savgol_filter\n",
    "from scipy.io import savemat"
   ]
  },
  {
   "cell_type": "code",
   "execution_count": 3,
   "id": "1ead8dc4-38cd-4368-a0d0-c0df16391b53",
   "metadata": {},
   "outputs": [],
   "source": [
    "folder = '/mnt/ff9e5a34-3696-46e4-8fa8-0171539135be/Tweez scope'\n",
    "exp_date = '2023_11_28'\n",
    "path = os.path.join(folder, exp_date)\n",
    "folder_masks = 'contour_masks'\n",
    "fname = '2023_11_28_10x_1.0x_pAAA_TiTweez_Pos1.ome.tif'\n",
    "fname_mask = 'mask_' + fname\n",
    "\n",
    "path_im = os.path.join(path, fname)\n",
    "path_masks = os.path.join(path, folder_masks, fname_mask)"
   ]
  },
  {
   "cell_type": "code",
   "execution_count": 5,
   "id": "7d035975-ef75-47b3-a88c-ed2e7ba37164",
   "metadata": {},
   "outputs": [],
   "source": [
    "im_all = imread(path_im)\n",
    "im_ph = im_all[:,:,:,3]\n",
    "im_ph = im_ph.astype(float)"
   ]
  },
  {
   "cell_type": "code",
   "execution_count": 6,
   "id": "5ddf0ce3-fbc8-4ef4-b730-365c85d106e9",
   "metadata": {},
   "outputs": [],
   "source": [
    "nt,nx,ny = im_ph.shape"
   ]
  },
  {
   "cell_type": "code",
   "execution_count": 7,
   "id": "1029eaa1-e2d4-4c5a-89d2-a13046a921cd",
   "metadata": {},
   "outputs": [
    {
     "data": {
      "text/plain": [
       "(216, 1024, 1024)"
      ]
     },
     "execution_count": 7,
     "metadata": {},
     "output_type": "execute_result"
    }
   ],
   "source": [
    "im_ph.shape"
   ]
  },
  {
   "cell_type": "code",
   "execution_count": 11,
   "id": "fcd0f491-9ee6-4a3c-b7d0-414f218eff1e",
   "metadata": {},
   "outputs": [
    {
     "data": {
      "text/plain": [
       "(216, 1024, 1024)"
      ]
     },
     "execution_count": 11,
     "metadata": {},
     "output_type": "execute_result"
    }
   ],
   "source": [
    "(nt,) + (nx,ny)"
   ]
  },
  {
   "cell_type": "code",
   "execution_count": null,
   "id": "0d56c52e-4b4c-42ac-acac-9832d1afd25b",
   "metadata": {},
   "outputs": [],
   "source": [
    "date = '2023_11_15'\n",
    "pos = [0,1,3]\n",
    "rads = 100\n",
    "524, 480\n",
    "505,520\n",
    "\n",
    "510, 510"
   ]
  },
  {
   "cell_type": "code",
   "execution_count": 10,
   "id": "d20ff212-c0e0-4932-8655-63f0882a0cba",
   "metadata": {},
   "outputs": [],
   "source": [
    "metadata = {\n",
    "    'Tweez scope': {\n",
    "        '2023_11_15': {\n",
    "            #'0': {'cx': 524, 'cy': 480, 'radius': 100}, #originally taken the other way around, (x, y) instead of (row, col)\n",
    "            '0': {'cx': 524, 'cy': 480, 'radius': 100, 'radj': 50},\n",
    "            '1': {'cx': 505, 'cy': 520, 'radius': 100, 'radj': 50},\n",
    "            '3': {'cx': 510, 'cy': 510, 'radius': 100, 'radj': 50},\n",
    "            # More positions\n",
    "        },\n",
    "        # More dates\n",
    "    },\n",
    "    'Ti scope': {\n",
    "        '2023_11_15': {\n",
    "            '0': {'cx': 600, 'cy': 600, 'radius': 100, 'radj': 50},\n",
    "            '1': {'cx': 600, 'cy': 600, 'radius': 100, 'radj': 50},\n",
    "            '2': {'cx': 600, 'cy': 600, 'radius': 100, 'radj': 50},\n",
    "            '3': {'cx': 600, 'cy': 600, 'radius': 100, 'radj': 50},\n",
    "            '6': {'cx': 625, 'cy': 590, 'radius': 110, 'radj': 50},\n",
    "            '7': {'cx': 600, 'cy': 580, 'radius': 50, 'radj': 35},\n",
    "            '9': {'cx': 605, 'cy': 590, 'radius': 100, 'radj': 50},\n",
    "            '17': {'cx': 610, 'cy': 590, 'radius': 100, 'radj': 35},\n",
    "            '19': {'cx': 965, 'cy': 750, 'radius': 100, 'radj': 35},\n",
    "            # More positions\n",
    "        },\n",
    "        # More dates\n",
    "    }\n",
    "}"
   ]
  },
  {
   "cell_type": "code",
   "execution_count": 9,
   "id": "8cdbe4ab-1326-4990-a177-77e7cfc0ff0a",
   "metadata": {},
   "outputs": [
    {
     "ename": "TypeError",
     "evalue": "the JSON object must be str, bytes or bytearray, not dict",
     "output_type": "error",
     "traceback": [
      "\u001b[0;31m---------------------------------------------------------------------------\u001b[0m",
      "\u001b[0;31mTypeError\u001b[0m                                 Traceback (most recent call last)",
      "Cell \u001b[0;32mIn[9], line 1\u001b[0m\n\u001b[0;32m----> 1\u001b[0m parsed \u001b[38;5;241m=\u001b[39m json\u001b[38;5;241m.\u001b[39mloads(metadata)\n\u001b[1;32m      2\u001b[0m \u001b[38;5;28mprint\u001b[39m(json\u001b[38;5;241m.\u001b[39mdumps(parsed, indent\u001b[38;5;241m=\u001b[39m\u001b[38;5;241m4\u001b[39m))\n",
      "File \u001b[0;32m~/anaconda3/envs/popdyn/lib/python3.11/json/__init__.py:339\u001b[0m, in \u001b[0;36mloads\u001b[0;34m(s, cls, object_hook, parse_float, parse_int, parse_constant, object_pairs_hook, **kw)\u001b[0m\n\u001b[1;32m    337\u001b[0m \u001b[38;5;28;01melse\u001b[39;00m:\n\u001b[1;32m    338\u001b[0m     \u001b[38;5;28;01mif\u001b[39;00m \u001b[38;5;129;01mnot\u001b[39;00m \u001b[38;5;28misinstance\u001b[39m(s, (\u001b[38;5;28mbytes\u001b[39m, \u001b[38;5;28mbytearray\u001b[39m)):\n\u001b[0;32m--> 339\u001b[0m         \u001b[38;5;28;01mraise\u001b[39;00m \u001b[38;5;167;01mTypeError\u001b[39;00m(\u001b[38;5;124mf\u001b[39m\u001b[38;5;124m'\u001b[39m\u001b[38;5;124mthe JSON object must be str, bytes or bytearray, \u001b[39m\u001b[38;5;124m'\u001b[39m\n\u001b[1;32m    340\u001b[0m                         \u001b[38;5;124mf\u001b[39m\u001b[38;5;124m'\u001b[39m\u001b[38;5;124mnot \u001b[39m\u001b[38;5;132;01m{\u001b[39;00ms\u001b[38;5;241m.\u001b[39m\u001b[38;5;18m__class__\u001b[39m\u001b[38;5;241m.\u001b[39m\u001b[38;5;18m__name__\u001b[39m\u001b[38;5;132;01m}\u001b[39;00m\u001b[38;5;124m'\u001b[39m)\n\u001b[1;32m    341\u001b[0m     s \u001b[38;5;241m=\u001b[39m s\u001b[38;5;241m.\u001b[39mdecode(detect_encoding(s), \u001b[38;5;124m'\u001b[39m\u001b[38;5;124msurrogatepass\u001b[39m\u001b[38;5;124m'\u001b[39m)\n\u001b[1;32m    343\u001b[0m \u001b[38;5;28;01mif\u001b[39;00m (\u001b[38;5;28mcls\u001b[39m \u001b[38;5;129;01mis\u001b[39;00m \u001b[38;5;28;01mNone\u001b[39;00m \u001b[38;5;129;01mand\u001b[39;00m object_hook \u001b[38;5;129;01mis\u001b[39;00m \u001b[38;5;28;01mNone\u001b[39;00m \u001b[38;5;129;01mand\u001b[39;00m\n\u001b[1;32m    344\u001b[0m         parse_int \u001b[38;5;129;01mis\u001b[39;00m \u001b[38;5;28;01mNone\u001b[39;00m \u001b[38;5;129;01mand\u001b[39;00m parse_float \u001b[38;5;129;01mis\u001b[39;00m \u001b[38;5;28;01mNone\u001b[39;00m \u001b[38;5;129;01mand\u001b[39;00m\n\u001b[1;32m    345\u001b[0m         parse_constant \u001b[38;5;129;01mis\u001b[39;00m \u001b[38;5;28;01mNone\u001b[39;00m \u001b[38;5;129;01mand\u001b[39;00m object_pairs_hook \u001b[38;5;129;01mis\u001b[39;00m \u001b[38;5;28;01mNone\u001b[39;00m \u001b[38;5;129;01mand\u001b[39;00m \u001b[38;5;129;01mnot\u001b[39;00m kw):\n",
      "\u001b[0;31mTypeError\u001b[0m: the JSON object must be str, bytes or bytearray, not dict"
     ]
    }
   ],
   "source": [
    "parsed = json.loads(metadata)\n",
    "print(json.dumps(parsed, indent=4))"
   ]
  },
  {
   "cell_type": "code",
   "execution_count": null,
   "id": "4ac5617e-2e1d-4cff-bb85-9ec9194bc565",
   "metadata": {},
   "outputs": [],
   "source": []
  },
  {
   "cell_type": "code",
   "execution_count": null,
   "id": "efaeb197-97ee-49b0-9096-6515b1cf741a",
   "metadata": {},
   "outputs": [],
   "source": []
  },
  {
   "cell_type": "code",
   "execution_count": 11,
   "id": "db1573f3-2a4d-4101-ad75-6ad8db1b2489",
   "metadata": {},
   "outputs": [],
   "source": [
    "with open(\"metadata.json\", \"w\") as outfile: \n",
    "    json.dump(metadata, outfile, indent=4)"
   ]
  },
  {
   "cell_type": "code",
   "execution_count": 23,
   "id": "6df6f845-240a-4291-97ad-29df5ce5f300",
   "metadata": {},
   "outputs": [],
   "source": [
    "def get_params_for_date(microscope, date, metadata):\n",
    "    \"\"\"Retrieve all parameters for a given microscope and date.\"\"\"\n",
    "    try:\n",
    "        return metadata[microscope][date]\n",
    "    except KeyError:\n",
    "        print(\"Data not found for the given microscope and date.\")"
   ]
  },
  {
   "cell_type": "code",
   "execution_count": 27,
   "id": "3a26536a-3d95-4b57-a6a7-df7a341895a8",
   "metadata": {},
   "outputs": [
    {
     "data": {
      "text/plain": [
       "{'0': {'cx': 524, 'cy': 480, 'radius': 100},\n",
       " '1': {'cx': 505, 'cy': 520, 'radius': 100},\n",
       " '3': {'cx': 510, 'cy': 510, 'radius': 100}}"
      ]
     },
     "execution_count": 27,
     "metadata": {},
     "output_type": "execute_result"
    }
   ],
   "source": [
    "# Example usage\n",
    "scope_name = 'Tweez scope'\n",
    "exp_date = '2023_11_15'\n",
    "colonies = get_params_for_date(scope_name, exp_date, metadata)\n",
    "\n",
    "result = get_params_for_date('Tweez scope', '2023_11_15', metadata)\n",
    "result"
   ]
  },
  {
   "cell_type": "code",
   "execution_count": 18,
   "id": "d53cd450-65de-4020-9890-4dfabd61ac4d",
   "metadata": {},
   "outputs": [
    {
     "data": {
      "text/plain": [
       "['0', '1', '3']"
      ]
     },
     "execution_count": 18,
     "metadata": {},
     "output_type": "execute_result"
    }
   ],
   "source": [
    "list(result.keys())"
   ]
  },
  {
   "cell_type": "code",
   "execution_count": 25,
   "id": "2d9abcc0-ecc0-4ed1-86d6-5cbbbc2dfb85",
   "metadata": {},
   "outputs": [
    {
     "data": {
      "text/plain": [
       "{'0': {'cx': 524, 'cy': 480, 'radius': 100},\n",
       " '1': {'cx': 505, 'cy': 520, 'radius': 100},\n",
       " '3': {'cx': 510, 'cy': 510, 'radius': 100}}"
      ]
     },
     "execution_count": 25,
     "metadata": {},
     "output_type": "execute_result"
    }
   ],
   "source": [
    "result"
   ]
  },
  {
   "cell_type": "code",
   "execution_count": 29,
   "id": "497c1524-7221-4f8d-8107-5c1daea35dbf",
   "metadata": {},
   "outputs": [
    {
     "name": "stdout",
     "output_type": "stream",
     "text": [
      "524 480\n",
      "505 520\n",
      "510 510\n"
     ]
    }
   ],
   "source": [
    "for col in result.keys():\n",
    "    cx = metadata[scope_name][exp_date][col]['cx']\n",
    "    cy = metadata[scope_name][exp_date][col]['cy']\n",
    "    print(cx, cy)"
   ]
  },
  {
   "cell_type": "code",
   "execution_count": 28,
   "id": "a8bd7381-c454-417a-b68a-27f9b3937fc0",
   "metadata": {},
   "outputs": [
    {
     "ename": "NameError",
     "evalue": "name 'col' is not defined",
     "output_type": "error",
     "traceback": [
      "\u001b[0;31m---------------------------------------------------------------------------\u001b[0m",
      "\u001b[0;31mNameError\u001b[0m                                 Traceback (most recent call last)",
      "Cell \u001b[0;32mIn[28], line 1\u001b[0m\n\u001b[0;32m----> 1\u001b[0m cx \u001b[38;5;241m=\u001b[39m metadata[scope_name][exp_date][col][\u001b[38;5;124m'\u001b[39m\u001b[38;5;124mcx\u001b[39m\u001b[38;5;124m'\u001b[39m]\n",
      "\u001b[0;31mNameError\u001b[0m: name 'col' is not defined"
     ]
    }
   ],
   "source": [
    "\n"
   ]
  },
  {
   "cell_type": "code",
   "execution_count": 30,
   "id": "534254ad-20e5-423b-8c64-0894e72f13cd",
   "metadata": {},
   "outputs": [
    {
     "data": {
      "text/plain": [
       "'0'"
      ]
     },
     "execution_count": 30,
     "metadata": {},
     "output_type": "execute_result"
    }
   ],
   "source": [
    "str(0)"
   ]
  },
  {
   "cell_type": "code",
   "execution_count": 31,
   "id": "39a47f5c-3e68-4c56-bd1d-c8515c74b3a9",
   "metadata": {},
   "outputs": [],
   "source": [
    "def make_video(images_folder, video_name):\n",
    "    \"\"\"\n",
    "    Makes a video from a sequence of png images.\n",
    "    \n",
    "    Parameters:\n",
    "    - images_folder (string): Folder that contains the png files.\n",
    "    - video_name (string): Date of the experimental data to be analyzed.\n",
    "\n",
    "    Returns:\n",
    "    - \n",
    "    \"\"\"\n",
    "    images = [img for img in os.listdir(images_folder) if img.endswith(\".png\")]\n",
    "    images.sort()\n",
    "    frame = cv2.imread(os.path.join(images_folder, images[0]))\n",
    "    height, width, layers = frame.shape\n",
    "\n",
    "    video = cv2.VideoWriter(video_name, 0, 7, (width,height))\n",
    "\n",
    "    for image in images:\n",
    "        video.write(cv2.imread(os.path.join(images_folder, image)))\n",
    "\n",
    "    video.release()"
   ]
  },
  {
   "cell_type": "code",
   "execution_count": 34,
   "id": "1d40ed2d-aa4e-469b-8f5d-9fce2c7e5bf9",
   "metadata": {},
   "outputs": [],
   "source": [
    "folder = '/mnt/ff9e5a34-3696-46e4-8fa8-0171539135be'\n",
    "scope_name = 'Tweez scope'\n",
    "path_scope = os.path.join(folder, scope_name)\n",
    "exp_date = '2023_11_15'\n",
    "path = os.path.join(path_scope, exp_date)\n",
    "folder_masks = 'contour_masks'\n",
    "pos = 0"
   ]
  },
  {
   "cell_type": "code",
   "execution_count": 37,
   "id": "32069b63-ce8a-49a6-b208-587ba0693d97",
   "metadata": {},
   "outputs": [],
   "source": [
    "make_video(os.path.join(path, folder_masks,f\"temp_pos{pos}\"), \n",
    "           os.path.join(path, folder_masks,f\"contour_pos{pos}.avi\"))"
   ]
  },
  {
   "cell_type": "code",
   "execution_count": null,
   "id": "bd62847b-3096-430b-94e7-c6877661a309",
   "metadata": {},
   "outputs": [],
   "source": [
    "images = [img for img in os.listdir(images_folder) if img.endswith(\".png\")]"
   ]
  }
 ],
 "metadata": {
  "kernelspec": {
   "display_name": "Python 3 (ipykernel)",
   "language": "python",
   "name": "python3"
  },
  "language_info": {
   "codemirror_mode": {
    "name": "ipython",
    "version": 3
   },
   "file_extension": ".py",
   "mimetype": "text/x-python",
   "name": "python",
   "nbconvert_exporter": "python",
   "pygments_lexer": "ipython3",
   "version": "3.11.8"
  }
 },
 "nbformat": 4,
 "nbformat_minor": 5
}
