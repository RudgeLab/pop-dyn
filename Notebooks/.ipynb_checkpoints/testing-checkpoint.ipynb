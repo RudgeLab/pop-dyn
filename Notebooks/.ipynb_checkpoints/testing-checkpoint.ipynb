{
 "cells": [
  {
   "cell_type": "code",
   "execution_count": 1,
   "id": "806d9ab1-6f96-4af3-a499-b4246a0333c6",
   "metadata": {},
   "outputs": [],
   "source": [
    "import os\n",
    "import numpy as np\n",
    "import matplotlib.pyplot as plt\n",
    "\n",
    "from skimage.io import imread, imsave\n",
    "from skimage.measure import find_contours\n",
    "from skimage.filters import gaussian\n",
    "from skimage.segmentation import active_contour\n",
    "from skimage.morphology import binary_erosion\n",
    "from skimage.draw import polygon\n",
    "from skimage.transform import warp_polar\n",
    "from skimage.transform import warp, EuclideanTransform\n",
    "\n",
    "from scipy.ndimage import distance_transform_edt\n",
    "from scipy.optimize import fmin, least_squares\n",
    "from scipy.signal import savgol_filter\n",
    "from scipy.io import savemat"
   ]
  },
  {
   "cell_type": "code",
   "execution_count": 3,
   "id": "1ead8dc4-38cd-4368-a0d0-c0df16391b53",
   "metadata": {},
   "outputs": [],
   "source": [
    "folder = '/mnt/ff9e5a34-3696-46e4-8fa8-0171539135be/Tweez scope'\n",
    "exp_date = '2023_11_28'\n",
    "path = os.path.join(folder, exp_date)\n",
    "folder_masks = 'contour_masks'\n",
    "fname = '2023_11_28_10x_1.0x_pAAA_TiTweez_Pos1.ome.tif'\n",
    "fname_mask = 'mask_' + fname\n",
    "\n",
    "path_im = os.path.join(path, fname)\n",
    "path_masks = os.path.join(path, folder_masks, fname_mask)"
   ]
  },
  {
   "cell_type": "code",
   "execution_count": 5,
   "id": "7d035975-ef75-47b3-a88c-ed2e7ba37164",
   "metadata": {},
   "outputs": [],
   "source": [
    "im_all = imread(path_im)\n",
    "im_ph = im_all[:,:,:,3]\n",
    "im_ph = im_ph.astype(float)"
   ]
  },
  {
   "cell_type": "code",
   "execution_count": 6,
   "id": "5ddf0ce3-fbc8-4ef4-b730-365c85d106e9",
   "metadata": {},
   "outputs": [],
   "source": [
    "nt,nx,ny = im_ph.shape"
   ]
  },
  {
   "cell_type": "code",
   "execution_count": 7,
   "id": "1029eaa1-e2d4-4c5a-89d2-a13046a921cd",
   "metadata": {},
   "outputs": [
    {
     "data": {
      "text/plain": [
       "(216, 1024, 1024)"
      ]
     },
     "execution_count": 7,
     "metadata": {},
     "output_type": "execute_result"
    }
   ],
   "source": [
    "im_ph.shape"
   ]
  },
  {
   "cell_type": "code",
   "execution_count": 11,
   "id": "fcd0f491-9ee6-4a3c-b7d0-414f218eff1e",
   "metadata": {},
   "outputs": [
    {
     "data": {
      "text/plain": [
       "(216, 1024, 1024)"
      ]
     },
     "execution_count": 11,
     "metadata": {},
     "output_type": "execute_result"
    }
   ],
   "source": [
    "(nt,) + (nx,ny)"
   ]
  },
  {
   "cell_type": "code",
   "execution_count": null,
   "id": "d20ff212-c0e0-4932-8655-63f0882a0cba",
   "metadata": {},
   "outputs": [],
   "source": []
  }
 ],
 "metadata": {
  "kernelspec": {
   "display_name": "Python 3 (ipykernel)",
   "language": "python",
   "name": "python3"
  },
  "language_info": {
   "codemirror_mode": {
    "name": "ipython",
    "version": 3
   },
   "file_extension": ".py",
   "mimetype": "text/x-python",
   "name": "python",
   "nbconvert_exporter": "python",
   "pygments_lexer": "ipython3",
   "version": "3.12.2"
  }
 },
 "nbformat": 4,
 "nbformat_minor": 5
}
